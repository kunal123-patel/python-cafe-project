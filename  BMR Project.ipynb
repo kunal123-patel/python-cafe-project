{
 "cells": [
  {
   "cell_type": "code",
   "execution_count": 2,
   "id": "2ae0d83a-c643-450c-a0c9-70f36785bc9a",
   "metadata": {},
   "outputs": [
    {
     "name": "stdin",
     "output_type": "stream",
     "text": [
      "Enter weight in kg: 65\n",
      "Enter height in cm: 172\n",
      "Enter your age: 22\n"
     ]
    },
    {
     "name": "stdout",
     "output_type": "stream",
     "text": [
      "BMR: 1620.0\n",
      "choose your activity level\n",
      "very active 5\n",
      "mostly active 4\n",
      "Active 3\n",
      "Normal 2\n",
      "Lazy 1\n"
     ]
    },
    {
     "name": "stdin",
     "output_type": "stream",
     "text": [
      "enter your activity level: 3\n"
     ]
    },
    {
     "name": "stdout",
     "output_type": "stream",
     "text": [
      "2511.0 is your maintenance\n",
      "\n",
      "choose your goal\n",
      "1.weight loss(20 percent kcal deficit)\n",
      "2.weight Gain(15 percent kcal deficit)\n",
      "3.maintain weight)\n"
     ]
    },
    {
     "name": "stdin",
     "output_type": "stream",
     "text": [
      "enter goal(1-3): 1\n"
     ]
    },
    {
     "name": "stdout",
     "output_type": "stream",
     "text": [
      "your daily kcal intake for weight loss is: 2008.8000000000002 kcal\n"
     ]
    }
   ],
   "source": [
    "Weight_in_kg = int(input(\"Enter weight in kg:\"))\n",
    "Height_in_cm = int(input(\"Enter height in cm:\"))\n",
    "Age = int(input(\"Enter your age:\"))\n",
    "\n",
    "BMR = (10*Weight_in_kg + 6.25*Height_in_cm - 5*Age+5)\n",
    "print(\"BMR:\",BMR)\n",
    "\n",
    "print(\"choose your activity level\")\n",
    "print(\"very active 5\")\n",
    "print(\"mostly active 4\")\n",
    "print(\"Active 3\")\n",
    "print(\"Normal 2\")\n",
    "print(\"Lazy 1\")\n",
    "\n",
    "active_level = input(\"enter your activity level:\")\n",
    "\n",
    "if active_level==\"1\":\n",
    "    TDEE = BMR*1.2\n",
    "    \n",
    "elif active_level==\"2\":\n",
    "    TDEE = BMR*1.375\n",
    "    \n",
    "elif active_level==\"3\":\n",
    "    TDEE = BMR*1.55\n",
    "\n",
    "elif active_level==\"4\":\n",
    "    TDEE = BMR*1.725\n",
    "elif acive_level==\"5\":\n",
    "    TDEE = BMR*1.9\n",
    "else:\n",
    "    print(\"invalid activity level selected\")\n",
    "    TDEE = None\n",
    "\n",
    "print(TDEE,\"is your maintenance\")\n",
    "if TDEE:\n",
    "    print(\"\\nchoose your goal\")\n",
    "    print(\"1.weight loss(20 percent kcal deficit)\")\n",
    "    print(\"2.weight Gain(15 percent kcal deficit)\")\n",
    "    print(\"3.maintain weight)\")\n",
    "    goal = input(\"enter goal(1-3):\")\n",
    "if goal ==\"1\":\n",
    "    kcal_intake = TDEE * 0.8\n",
    "    print(\"your daily kcal intake for weight loss is:\", kcal_intake,\"kcal\")\n",
    "elif goal==\"2\":\n",
    "    kcal_intake = TDEE * 1.15\n",
    "    print(\"your daily kcal intake for weight gain is:\",kcal_intake,\"kcal\")\n",
    "elif goal==\"3\":\n",
    "    kcal_intake = TDEE\n",
    "    print(\"your maintenance kcal intake is:\",kcal_intake,\"kcal\")\n",
    "    \n",
    "\n",
    "    \n",
    "    \n"
   ]
  },
  {
   "cell_type": "code",
   "execution_count": null,
   "id": "de540a91-f7fd-4c9a-9e08-edb8817d0dff",
   "metadata": {},
   "outputs": [],
   "source": []
  }
 ],
 "metadata": {
  "kernelspec": {
   "display_name": "Python 3 (ipykernel)",
   "language": "python",
   "name": "python3"
  },
  "language_info": {
   "codemirror_mode": {
    "name": "ipython",
    "version": 3
   },
   "file_extension": ".py",
   "mimetype": "text/x-python",
   "name": "python",
   "nbconvert_exporter": "python",
   "pygments_lexer": "ipython3",
   "version": "3.13.1"
  }
 },
 "nbformat": 4,
 "nbformat_minor": 5
}
