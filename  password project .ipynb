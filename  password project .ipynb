{
 "cells": [
  {
   "cell_type": "code",
   "execution_count": 1,
   "id": "56f9452d-64eb-4460-9f3b-6a71fa7e5fdd",
   "metadata": {},
   "outputs": [
    {
     "name": "stdin",
     "output_type": "stream",
     "text": [
      "Enter the minimum length: 5\n",
      "Do you want to have numbers (y/n)? n\n",
      "Do you want to have special characters (y/n)?  n\n"
     ]
    },
    {
     "name": "stdout",
     "output_type": "stream",
     "text": [
      "The generated password is: nbBCs\n"
     ]
    }
   ],
   "source": [
    "import random\n",
    "import string\n",
    "\n",
    "\n",
    "def generate_password(min_length, numbers=True, special_characters=True):\n",
    "    letters = string.ascii_letters\n",
    "    digits = string.digits\n",
    "    special = string.punctuation\n",
    "\n",
    "\n",
    "    characters = letters\n",
    "    if numbers:\n",
    "        characters += digits\n",
    "    if special_characters:\n",
    "        characters += special\n",
    "\n",
    "    pwd = \"\"\n",
    "    meets_criteria = False\n",
    "    has_number = False\n",
    "    has_special = False\n",
    "\n",
    "    while not meets_criteria or len(pwd) < min_length:\n",
    "        new_char = random.choice(characters)\n",
    "        pwd += new_char\n",
    "\n",
    "        if new_char in digits:\n",
    "            has_number = True\n",
    "        elif new_char in special:\n",
    "            has_special = True\n",
    "\n",
    "        meets_criteria = True\n",
    "        if numbers:\n",
    "             meets_critera = has_number\n",
    "        if special_characters:\n",
    "             meets_criteria = meets_criteria and has_special\n",
    "    return pwd\n",
    "\n",
    "min_length = int(input(\"Enter the minimum length:\"))\n",
    "has_number = input(\"Do you want to have numbers (y/n)?\").lower() == \"y\"\n",
    "has_special = input(\"Do you want to have special characters (y/n)? \").lower() == \"y\"\n",
    "pwd = generate_password(min_length, has_number, has_special)\n",
    "print(\"The generated password is:\", pwd)\n"
   ]
  },
  {
   "cell_type": "code",
   "execution_count": null,
   "id": "2ed7c9de-8c0f-4d3c-8385-2ec4f1648626",
   "metadata": {},
   "outputs": [],
   "source": []
  },
  {
   "cell_type": "code",
   "execution_count": null,
   "id": "7438bd56-c60e-4e73-8541-4dc3c5130a5c",
   "metadata": {},
   "outputs": [],
   "source": []
  }
 ],
 "metadata": {
  "kernelspec": {
   "display_name": "Python 3 (ipykernel)",
   "language": "python",
   "name": "python3"
  },
  "language_info": {
   "codemirror_mode": {
    "name": "ipython",
    "version": 3
   },
   "file_extension": ".py",
   "mimetype": "text/x-python",
   "name": "python",
   "nbconvert_exporter": "python",
   "pygments_lexer": "ipython3",
   "version": "3.13.1"
  }
 },
 "nbformat": 4,
 "nbformat_minor": 5
}
