{
 "cells": [
  {
   "cell_type": "code",
   "execution_count": 1,
   "id": "3704d62b-88ec-4ac9-9222-d6a2e277d538",
   "metadata": {},
   "outputs": [
    {
     "name": "stdout",
     "output_type": "stream",
     "text": [
      "welcome to python restaurant\n",
      "Pizza: Rs40\n",
      "pasta: RS50\n",
      "Burger: Rs60\n",
      "Salad:Rs70\n",
      "coffe: Rs80\n"
     ]
    },
    {
     "name": "stdin",
     "output_type": "stream",
     "text": [
      "Enter the name of item you want to order =  pizza\n"
     ]
    },
    {
     "name": "stdout",
     "output_type": "stream",
     "text": [
      "Your item pizza has been added to your order\n"
     ]
    },
    {
     "name": "stdin",
     "output_type": "stream",
     "text": [
      "Do you want to add another item? (Yes/No) Yes\n",
      "Enter the name of second item =  burger\n"
     ]
    },
    {
     "name": "stdout",
     "output_type": "stream",
     "text": [
      "item burger has been added to order\n",
      "The total amount of item to pay is 100\n"
     ]
    }
   ],
   "source": [
    "#define the menu of restaurant\n",
    "menu  = {\n",
    "'pizza':40,\n",
    "'pasta':50,\n",
    "'burger':60,\n",
    "'salad':70,\n",
    "'coffe':80 \n",
    "}\n",
    "#greet\n",
    "print(\"welcome to python restaurant\")\n",
    "print(\"Pizza: Rs40\\npasta: RS50\\nBurger: Rs60\\nSalad:Rs70\\ncoffe: Rs80\")\n",
    "\n",
    "order_total = 0\n",
    "#80 + 70 = 150\n",
    "item_1 = input(\"Enter the name of item you want to order = \")\n",
    "if item_1 in menu:\n",
    "    order_total += menu[item_1] #0 + 50\n",
    "    print(f\"Your item {item_1} has been added to your order\")\n",
    "else:\n",
    "    print(f\"Orederd item {item_1} is not available yet\")\n",
    "\n",
    "another_order = input(\"Do you want to add another item? (Yes/No)\")\n",
    "if another_order == \"Yes\":\n",
    "    item_2 = input(\"Enter the name of second item = \")\n",
    "    if item_2 in menu:\n",
    "        order_total +=menu[item_2]\n",
    "        print(f\"item {item_2} has been added to order\")\n",
    "else:\n",
    "    print(f\"ordered item {item_2} is not avaialable!\")\n",
    "print(f\"The total amount of item to pay is {order_total}\")\n"
   ]
  },
  {
   "cell_type": "code",
   "execution_count": null,
   "id": "70b790b1-bf0a-41f2-bb2f-ea0883282a57",
   "metadata": {},
   "outputs": [],
   "source": []
  }
 ],
 "metadata": {
  "kernelspec": {
   "display_name": "Python 3 (ipykernel)",
   "language": "python",
   "name": "python3"
  },
  "language_info": {
   "codemirror_mode": {
    "name": "ipython",
    "version": 3
   },
   "file_extension": ".py",
   "mimetype": "text/x-python",
   "name": "python",
   "nbconvert_exporter": "python",
   "pygments_lexer": "ipython3",
   "version": "3.13.1"
  }
 },
 "nbformat": 4,
 "nbformat_minor": 5
}
